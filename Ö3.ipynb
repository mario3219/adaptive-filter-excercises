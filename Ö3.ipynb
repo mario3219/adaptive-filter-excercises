{
 "cells": [
  {
   "cell_type": "code",
   "execution_count": 1,
   "metadata": {},
   "outputs": [],
   "source": [
    "import numpy as np"
   ]
  },
  {
   "cell_type": "code",
   "execution_count": 5,
   "metadata": {},
   "outputs": [
    {
     "name": "stdout",
     "output_type": "stream",
     "text": [
      "[[1. 0.]\n",
      " [0. 3.]]\n"
     ]
    }
   ],
   "source": [
    "m1 = np.matrix([[1, -1], [1, 1]])\n",
    "m2 = np.matrix([[2, 1], [1, 2]])\n",
    "m3 = np.matrix([[1, 1], [-1, 1]])\n",
    "\n",
    "print(0.5*m1*m2*m3)"
   ]
  },
  {
   "cell_type": "code",
   "execution_count": 25,
   "metadata": {},
   "outputs": [
    {
     "name": "stdout",
     "output_type": "stream",
     "text": [
      "[[2.]] [[5.55555556]]\n"
     ]
    }
   ],
   "source": [
    "R = np.matrix([[2, 1], [1, 2]])\n",
    "Rinv = np.linalg.inv(R)\n",
    "p = [[6],[4]]\n",
    "w0 = Rinv*p\n",
    "QH = 1/(np.sqrt(2))*np.matrix([[-1,1],[1,1]])\n",
    "v0 = QH*w0\n",
    "print(v0[0]**2, v0[1]**2)"
   ]
  }
 ],
 "metadata": {
  "kernelspec": {
   "display_name": "Python 3",
   "language": "python",
   "name": "python3"
  },
  "language_info": {
   "codemirror_mode": {
    "name": "ipython",
    "version": 3
   },
   "file_extension": ".py",
   "mimetype": "text/x-python",
   "name": "python",
   "nbconvert_exporter": "python",
   "pygments_lexer": "ipython3",
   "version": "3.12.0"
  }
 },
 "nbformat": 4,
 "nbformat_minor": 2
}
