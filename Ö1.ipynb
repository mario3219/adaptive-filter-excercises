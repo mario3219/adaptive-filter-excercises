{
 "cells": [
  {
   "cell_type": "code",
   "execution_count": 2,
   "metadata": {},
   "outputs": [
    {
     "data": {
      "text/plain": [
       "[{g: r1 - r2}, {g: r1 + r2}]"
      ]
     },
     "execution_count": 2,
     "metadata": {},
     "output_type": "execute_result"
    }
   ],
   "source": [
    "# 2.2\n",
    "\n",
    "import sympy\n",
    "from sympy.solvers import solve\n",
    "import sympy as sym\n",
    "\n",
    "g = sym.Symbol('g')\n",
    "r1 = sym.Symbol('r1')\n",
    "r2 = sym.Symbol('r2')\n",
    "\n",
    "eq = g**2+r1**2-2*g*r1-r2**2\n",
    "solve(eq)"
   ]
  }
 ],
 "metadata": {
  "kernelspec": {
   "display_name": "Python 3",
   "language": "python",
   "name": "python3"
  },
  "language_info": {
   "codemirror_mode": {
    "name": "ipython",
    "version": 3
   },
   "file_extension": ".py",
   "mimetype": "text/x-python",
   "name": "python",
   "nbconvert_exporter": "python",
   "pygments_lexer": "ipython3",
   "version": "3.12.0"
  }
 },
 "nbformat": 4,
 "nbformat_minor": 2
}
